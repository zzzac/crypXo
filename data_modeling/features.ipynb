{
 "cells": [
  {
   "cell_type": "code",
   "execution_count": null,
   "id": "a5539eb0",
   "metadata": {},
   "outputs": [],
   "source": [
    "from features import *\n",
    "\n",
    "import os\n",
    "import dask\n",
    "from dask.distributed import Client\n",
    "from dask import delayed\n",
    "from tqdm import tqdm\n",
    "\n",
    "BASE_PATH = '/Users/zzzhang/Desktop/crypXo/data/binance/1m/'\n",
    "TARGET_PATH = '/Users/zzzhang/Desktop/crypXo/data/binance/features/'\n",
    "\n",
    "\"\"\"运行并行处理\"\"\"\n",
    "from tqdm import tqdm\n",
    "# 确保目标目录存在\n",
    "os.makedirs(TARGET_PATH, exist_ok=True)\n",
    "\n",
    "# 获取文件列表\n",
    "inslist = [i for i in os.listdir(BASE_PATH) if 'USDT' in i]\n",
    "\n",
    "for ins in tqdm(inslist):\n",
    "    df = get_df_from_local_path(BASE_PATH + ins)\n",
    "    features = TechnicalIndicators(df)\n",
    "    resdf = features.calculate_all_indicators()\n",
    "    resdf.to_parquet(TARGET_PATH + ins + '.parquet')\n",
    "    os.mkdir(TARGET_PATH + ins)\n",
    "    for trading_day, group_df in resdf.groupby('tradingDay'):\n",
    "        output_file = f\"{TARGET_PATH}/{ins}/{ins}_{trading_day}_features.parquet\"\n",
    "        group_df.to_parquet(output_file)\n",
    "\n"
   ]
  },
  {
   "cell_type": "code",
   "execution_count": null,
   "id": "1b1b7347",
   "metadata": {},
   "outputs": [],
   "source": []
  }
 ],
 "metadata": {
  "kernelspec": {
   "display_name": "base",
   "language": "python",
   "name": "python3"
  },
  "language_info": {
   "codemirror_mode": {
    "name": "ipython",
    "version": 3
   },
   "file_extension": ".py",
   "mimetype": "text/x-python",
   "name": "python",
   "nbconvert_exporter": "python",
   "pygments_lexer": "ipython3",
   "version": "3.12.7"
  }
 },
 "nbformat": 4,
 "nbformat_minor": 5
}
