{
 "cells": [
  {
   "cell_type": "code",
   "execution_count": 1,
   "id": "7713861a",
   "metadata": {},
   "outputs": [],
   "source": [
    "import pandas as pd\n",
    "import numpy as np\n",
    "from lightgbm import LGBMRegressor\n",
    "from sklearn.metrics import r2_score\n",
    "import matplotlib.pyplot as plt\n"
   ]
  },
  {
   "cell_type": "code",
   "execution_count": null,
   "id": "d3109853",
   "metadata": {},
   "outputs": [],
   "source": []
  },
  {
   "cell_type": "code",
   "execution_count": null,
   "id": "29979459",
   "metadata": {},
   "outputs": [],
   "source": [
    "\n",
    "k = 5\n",
    "df['target_close'] = df['close'].shift(-k)\n",
    "\n",
    "for lag in [1, 2, 3]:\n",
    "    for col in ['open', 'high', 'low', 'close', 'volume']:\n",
    "        df[f'{col}_lag{lag}'] = df[col].shift(lag)\n",
    "\n",
    "features = ['open', 'high', 'low', 'close', 'volume'] + \\\n",
    "           [f'{col}_lag{lag}' for lag in [1,2,3] for col in ['open','high','low','close','volume']]\n",
    "\n",
    "df = df.dropna()\n",
    "X = df[features]\n",
    "y = df['target_close']\n",
    "\n",
    "split_index = len(df) // 2\n",
    "X_train, X_test = X.iloc[:split_index], X.iloc[split_index:]\n",
    "y_train, y_test = y.iloc[:split_index], y.iloc[split_index:]\n",
    "\n",
    "model = LGBMRegressor(n_estimators=100, learning_rate=0.1, random_state=42)\n",
    "model.fit(X_train, y_train)\n",
    "\n",
    "# 训练集R²\n",
    "y_train_pred = model.predict(X_train)\n",
    "train_r2 = r2_score(y_train, y_train_pred)\n",
    "print(f'R² on train set (current + lag, k={k}): {train_r2:.4f}')\n",
    "\n",
    "# 测试集R²\n",
    "y_pred = model.predict(X_test)\n",
    "r2 = r2_score(y_test, y_pred)\n",
    "print(f'R² on test set (current + lag, k={k}): {r2:.4f}')\n",
    "\n",
    "plt.figure(figsize=(12, 4))\n",
    "plt.plot(y_test.values[:], label='True')\n",
    "plt.plot(y_pred[:], label='Predicted')\n",
    "plt.title(f'Predict future {k}-min close using current + history Kline features')\n",
    "plt.legend()\n",
    "plt.grid(True)\n",
    "plt.show()\n",
    "\n",
    "k = 5\n",
    "df['target_close'] = df['close'].shift(-k)\n",
    "\n",
    "for lag in [1, 2, 3]:\n",
    "    for col in ['open', 'high', 'low', 'close', 'volume']:\n",
    "        df[f'{col}_lag{lag}'] = df[col].shift(lag)\n",
    "\n",
    "features = ['open', 'high', 'low', 'close', 'volume'] + \\\n",
    "           [f'{col}_lag{lag}' for lag in [1,2,3] for col in ['open','high','low','close','volume']]\n",
    "\n",
    "df = df.dropna()\n",
    "X = df[features]\n",
    "y = df['target_close']\n",
    "\n",
    "split_index = len(df) // 2\n",
    "X_train, X_test = X.iloc[:split_index], X.iloc[split_index:]\n",
    "y_train, y_test = y.iloc[:split_index], y.iloc[split_index:]\n",
    "\n"
   ]
  },
  {
   "cell_type": "code",
   "execution_count": null,
   "id": "c8247ffd",
   "metadata": {},
   "outputs": [],
   "source": []
  },
  {
   "cell_type": "code",
   "execution_count": null,
   "id": "a21e6d77",
   "metadata": {},
   "outputs": [],
   "source": []
  },
  {
   "cell_type": "code",
   "execution_count": null,
   "id": "d7bf9810",
   "metadata": {},
   "outputs": [],
   "source": []
  }
 ],
 "metadata": {
  "kernelspec": {
   "display_name": "base",
   "language": "python",
   "name": "python3"
  },
  "language_info": {
   "codemirror_mode": {
    "name": "ipython",
    "version": 3
   },
   "file_extension": ".py",
   "mimetype": "text/x-python",
   "name": "python",
   "nbconvert_exporter": "python",
   "pygments_lexer": "ipython3",
   "version": "3.12.7"
  }
 },
 "nbformat": 4,
 "nbformat_minor": 5
}
